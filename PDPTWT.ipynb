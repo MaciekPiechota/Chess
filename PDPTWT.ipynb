{
  "nbformat": 4,
  "nbformat_minor": 0,
  "metadata": {
    "colab": {
      "provenance": []
    },
    "kernelspec": {
      "name": "python3",
      "display_name": "Python 3"
    },
    "language_info": {
      "name": "python"
    }
  },
  "cells": [
    {
      "cell_type": "markdown",
      "source": [
        "### todo\n",
        "- [ ] numpy, vectorisation (unless not possible)?\n",
        "      ^ i guess it's not exactly possible"
      ],
      "metadata": {
        "id": "Rctbw8ZTPQFp"
      }
    },
    {
      "cell_type": "code",
      "execution_count": 28,
      "metadata": {
        "id": "K--hcELyNAKs",
        "colab": {
          "base_uri": "https://localhost:8080/"
        },
        "outputId": "5fd2db45-da80-4089-b4da-317e9a583b04"
      },
      "outputs": [
        {
          "output_type": "stream",
          "name": "stdout",
          "text": [
            "Looking in indexes: https://pypi.org/simple, https://us-python.pkg.dev/colab-wheels/public/simple/\n",
            "Requirement already satisfied: ortools in /usr/local/lib/python3.8/dist-packages (9.5.2237)\n",
            "Requirement already satisfied: absl-py>=0.13 in /usr/local/lib/python3.8/dist-packages (from ortools) (1.3.0)\n",
            "Requirement already satisfied: protobuf>=4.21.5 in /usr/local/lib/python3.8/dist-packages (from ortools) (4.21.10)\n",
            "Requirement already satisfied: numpy>=1.13.3 in /usr/local/lib/python3.8/dist-packages (from ortools) (1.21.6)\n"
          ]
        }
      ],
      "source": [
        "%pip install ortools"
      ]
    },
    {
      "cell_type": "markdown",
      "source": [
        "Data example is from Morteza Rahmani https://www.researchgate.net/publication/335421455_Examining_the_impact_of_transfers_in_pickup_and_delivery_systems\n"
      ],
      "metadata": {
        "id": "kv-fJfSzLnJT"
      }
    },
    {
      "cell_type": "markdown",
      "source": [
        "**Data requirements**\n",
        "\n",
        "*   Each vehicle has to start and end it's journey on a different node.\n",
        "\n",
        "\n"
      ],
      "metadata": {
        "id": "pVu9dVhWJLoa"
      }
    },
    {
      "cell_type": "code",
      "source": [
        "import numpy as np\n",
        "\n",
        "def NO_TRANSFERS_1():\n",
        "    data = {}\n",
        "    # number of nodes in graph \n",
        "    # travel time between nodes\n",
        "    # c[i][j] = -1 means that there is no connection\n",
        "    data['c'] = np.array([[0  ,300,150,300,300 ,0  ,300],\n",
        "                           [300,0  ,150,300,300,300,300],\n",
        "                           [150,150,0  ,150,150,150,150],\n",
        "                           [300,300,150,0  ,300,300,300],\n",
        "                           [300,300,150,300,0  ,300,0  ],\n",
        "                           [0  ,300,150,300,300 ,0 ,300],\n",
        "                           [300,300 ,150,300,300,300,0]])\n",
        "    data['N'] = 7\n",
        "    data['avg_speed'] = 60\n",
        "\n",
        "\n",
        "    # vehicles with start and end\n",
        "    data['vehicles'] = [[0,5],[4,6]]     \n",
        "    data['vehicles_capacity'] = [20,20]\n",
        "    data['requests'] = [[0,1],[0,3],[4,1],[4,3]] \n",
        "    data['requests_size'] =[10,10,10,10]\n",
        "    data['transfers'] = []\n",
        "    data['time_window'] = [[0,100],[0,100],[0,100],[0,100],[0,100],[0,100],[0,100]]\n",
        "\n",
        "    return data\n",
        "\n",
        "def TRANSFERS_1():\n",
        "    data = {}\n",
        "    # number of nodes in graph \n",
        "    # travel time between nodes\n",
        "    # c[i][j] = -1 means that there is no connection\n",
        "    data['c'] = np.array([[0  ,300,150,300,300 ,0  ,300],\n",
        "                           [300,0  ,150,300,300,300,300],\n",
        "                           [150,150,0  ,150,150,150,150],\n",
        "                           [300,300,150,0  ,300,300,300],\n",
        "                           [300,300,150,300,0  ,300,0  ],\n",
        "                           [0  ,300,150,300,300 ,0 ,300],\n",
        "                           [300,300 ,150,300,300,300,0]])\n",
        "    data['N'] = 7\n",
        "    data['avg_speed'] = 60\n",
        "\n",
        "    # vehicles with start and end\n",
        "    data['vehicles'] = [[0,5],[4,6]]     \n",
        "    data['vehicles_capacity'] = [20,20]\n",
        "    data['requests'] = [[0,1],[0,3],[4,1],[4,3]] \n",
        "    data['requests_size'] =[10,10,10,10]\n",
        "    data['transfers'] = [2]\n",
        "    data['time_window'] = [[0,100],[0,100],[0,100],[0,100],[0,100],[0,100],[0,100]]\n",
        "\n",
        "    return data"
      ],
      "metadata": {
        "id": "_Geag45TOIeb"
      },
      "execution_count": 29,
      "outputs": []
    },
    {
      "cell_type": "code",
      "source": [
        "def non_transfer(transfers):\n",
        "  return [i for i in range(0, data['N']) if i not in transfers]"
      ],
      "metadata": {
        "id": "RlbKAedo0WYR"
      },
      "execution_count": 30,
      "outputs": []
    },
    {
      "cell_type": "code",
      "source": [
        "def var_name(letter, indexies):\n",
        "  return letter + \"_\" + \"_\".join(map(str, indexies))"
      ],
      "metadata": {
        "id": "YxQ__t3h5QGo"
      },
      "execution_count": 31,
      "outputs": []
    },
    {
      "cell_type": "markdown",
      "source": [
        "$$\\delta^+_k(S) = \\{(u,v) \\in A^k | u \\in S, v\\notin S\\}$$"
      ],
      "metadata": {
        "id": "LF2N6Jk4OXBq"
      }
    },
    {
      "cell_type": "markdown",
      "source": [
        "$$\\delta^-_k(S) = \\{(u,v) \\in A^k | u \\notin S, v\\in S\\}$$"
      ],
      "metadata": {
        "id": "-f4Kg23JOofn"
      }
    },
    {
      "cell_type": "code",
      "source": [
        "def leaving_nodes(S):\n",
        "    return [(u, v) for v in range(0, data[\"N\"]) for u in S if u != v and data[\"c\"][u][v] >= 0]"
      ],
      "metadata": {
        "id": "zlbKNzOOOl73"
      },
      "execution_count": 32,
      "outputs": []
    },
    {
      "cell_type": "code",
      "source": [
        "def entering_nodes(S):\n",
        "    return [(u, v) for u in range(0, data[\"N\"]) for v in S if u != v and data[\"c\"][u][v]]"
      ],
      "metadata": {
        "id": "bz6ec9C6PD8N"
      },
      "execution_count": 33,
      "outputs": []
    },
    {
      "cell_type": "code",
      "source": [
        "from ortools.linear_solver import pywraplp "
      ],
      "metadata": {
        "id": "INRwkX38PGgh"
      },
      "execution_count": 34,
      "outputs": []
    },
    {
      "cell_type": "code",
      "source": [
        "# solver = pywraplp.Solver.CreateSolver('SCIP')\n",
        "solver = pywraplp.Solver('SCIP', pywraplp.Solver.SCIP_MIXED_INTEGER_PROGRAMMING)\n",
        "if not solver:\n",
        "    raise Exception(\"Failed to create the solver!\")"
      ],
      "metadata": {
        "id": "651Zkd63PLLt"
      },
      "execution_count": 35,
      "outputs": []
    },
    {
      "cell_type": "markdown",
      "source": [
        "**MIP VARIABLES**\n",
        "$$s_v^k \\text{- start time of service of vehicle $k \\in K$ at node $v$}$$\n",
        "\n",
        "$$x_{i,j}^k = \\begin{cases}\n",
        "    1, & \\text{iff vehicle k $\\in K$ traverses arc $(i,j) \\in A$}.\\\\\n",
        "    0, & \\text{otherwise}.\n",
        "  \\end{cases}\n",
        "  \\\\\\\\\n",
        "y_v^k = \\begin{cases}\n",
        "    1, & \\text{iff vehicle k $\\in K$ visits vertex $v \\in V$}.\\\\\n",
        "    0, & \\text{otherwise}.\n",
        "\\end{cases}\n",
        "\\\\\\\\\n",
        "f_{i,j}^{kr} = \\begin{cases}\n",
        "    1, & \\text{iff vehicle k traverses arc $(i,j)$ with request $r$}.\\\\\n",
        "    0, & \\text{otherwise}.\n",
        "  \\end{cases}\n",
        "\\\\\\\\\n",
        "z^{kk'}_{vr} = \\begin{cases}\n",
        "    1, & \\text{iff request r is transhipped from $k$ to $k'$ at node $v \\in T$}.\\\\\n",
        "    0, & \\text{otherwise}.\n",
        "  \\end{cases}$$"
      ],
      "metadata": {
        "id": "jRIVbDrjPVyf"
      }
    },
    {
      "cell_type": "code",
      "source": [
        "data = TRANSFERS_1()"
      ],
      "metadata": {
        "id": "SFdKr-x6ONqD"
      },
      "execution_count": 36,
      "outputs": []
    },
    {
      "cell_type": "code",
      "source": [
        "# creating linear variables\n",
        "\n",
        "V = [v for v in range(data['N'])]\n",
        "K = [k for k in range(len(data['vehicles']))]\n",
        "R = [r for r in range(len(data['requests']))]\n",
        "A = [(i,j) for i in range(data['N']) for j in range(data['N'])]\n",
        "T = [t for t in range(len(data['transfers']))]\n",
        "\n",
        "transfers = data['transfers']\n",
        "time = data['c'] / data['avg_speed']\n",
        "vehicles = data['vehicles']\n",
        "requests = data['requests']\n",
        "transfers = data['transfers']\n",
        "vehicles_capacity = data['vehicles_capacity']\n",
        "request_size = data['requests_size']\n",
        "time_windows = data['time_window']\n",
        "c = data['c']\n",
        "requests_tw =  [[0,100],[0,100],[0,100],[0,100]]\n",
        "\n",
        "# big M jak się okazuje tylko w teorii musi być duże, a powinno być ogolnie najmniejsze jak może być, \n",
        "# bo solver nie ogarnia później można to zmienić też na sume  \n",
        "M = np.sum(time)\n",
        "\n",
        "\n",
        "infinity = solver.infinity()\n",
        "\n",
        "# s[k][v]\n",
        "s = [[solver.NumVar(0, infinity, var_name(\"s\", [k,v])) for v in V] for k in K]\n",
        "# x[k][i][j]\n",
        "x = [[[solver.IntVar(0, 1, var_name(\"x\", [k,i,j])) for j in V ] for i in V] for k in K]\n",
        "# y[k][v]\n",
        "y = [[solver.IntVar(0, 1, var_name(\"y\", [k,v])) for v in V] for k in K]\n",
        "# f[k][r][i][j]\n",
        "f = [[[[solver.IntVar(0, 1, var_name(\"f\", [k,r,i,j])) for j in V] for i in V] for r in R] for k in K]\n",
        "# z[k][k'][v][r]\n",
        "z = [[[[solver.IntVar(0, 1, var_name(\"z\", [k,k2,v,r])) for r in R] for v in V] for k2 in K] for k in K]"
      ],
      "metadata": {
        "id": "vfg-A7QyPeIf"
      },
      "execution_count": 37,
      "outputs": []
    },
    {
      "cell_type": "markdown",
      "source": [
        "Objective function to minimize\n",
        "$$min \\sum_{k\\in K}\\sum_{(i,j)\\in A}c_{i,j}x^k_{i,j} $$"
      ],
      "metadata": {
        "id": "F-TR4VYMSVfw"
      }
    },
    {
      "cell_type": "code",
      "source": [
        "objective = solver.Objective()\n",
        "for k in K:\n",
        "  for (i,j) in A:\n",
        "    objective.SetCoefficient(x[k][i][j], int(c[i][j]))\n"
      ],
      "metadata": {
        "id": "M5THQeN2ShmL"
      },
      "execution_count": 38,
      "outputs": []
    },
    {
      "cell_type": "markdown",
      "source": [
        "1. Flow conservation\n",
        "$$x^k(\\delta^+_k(v)) = y_v^k ;\\;\\;\\;\\;\\;\\;\\;\\;\\ \\forall k \\in K, \\forall v \\in V-\\{k^-\\}$$\n",
        "$$\\sum_{(i,j) \\in \\delta_k^+(v)}x_{i,j}^k = y_v^k$$"
      ],
      "metadata": {
        "id": "QARiIkcsS-6l"
      }
    },
    {
      "cell_type": "markdown",
      "source": [
        "$$x^k(\\delta^-_k(v)) = y_v^k \n",
        "\\;\\;\\;\\;\\;\\;\\;\\;\\ \\forall k \\in K, \\forall v \\in V-\\{k^+\\}$$\n",
        "$$\\sum_{(i,j)\\in \\delta_k^-(v)}x_{i,j}^k = y_v^k$$"
      ],
      "metadata": {
        "id": "fzh8igLtUDeg"
      }
    },
    {
      "cell_type": "code",
      "source": [
        "for k in K:\n",
        "  for v in V:\n",
        "    if v == vehicles[k][1]:\n",
        "      solver.Add(sum(x[k][i][j] for (i,j) in leaving_nodes([v])) == 0)\n",
        "    if v == vehicles[k][0]:\n",
        "      solver.Add(sum(x[k][i][j] for (i,j) in entering_nodes([v])) == 0)\n",
        "    if v != vehicles[k][1]:\n",
        "      solver.Add(sum(x[k][i][j] for (i,j) in leaving_nodes([v])) == y[k][v])\n",
        "    if v != vehicles[k][0]:\n",
        "      solver.Add(sum(x[k][i][j] for (i,j) in entering_nodes([v])) == y[k][v])\n",
        "\n",
        "for k in K:\n",
        "  for i in V:\n",
        "    solver.Add(x[k][i][i] == 0)"
      ],
      "metadata": {
        "id": "moALOAlSTSaL"
      },
      "execution_count": 39,
      "outputs": []
    },
    {
      "cell_type": "markdown",
      "source": [
        "*2*. Guarantee that every vehicle starts and ends at it’s depot\n",
        "$$y^k_v = 1 \\;\\;\\;\\;\\;\n",
        " \\forall\n",
        " k \\in K, \\forall v \\in \\{k^+,k^-\\} $$"
      ],
      "metadata": {
        "id": "a-4601IIXLnr"
      }
    },
    {
      "cell_type": "code",
      "source": [
        "for k in K:\n",
        "  # chosing first instance of copy for [k^+, k^-] pair\n",
        "  k_origin = vehicles[k][0]\n",
        "  k_destination = vehicles[k][1]\n",
        "  solver.Add(y[k][k_origin] == 1)\n",
        "  solver.Add(y[k][k_destination] == 1)\n"
      ],
      "metadata": {
        "id": "GJVHwi75XQMo"
      },
      "execution_count": 40,
      "outputs": []
    },
    {
      "cell_type": "markdown",
      "source": [
        "\n",
        "\n",
        "3. Guarantee that every request is served only once\n",
        "$$\\sum_{k \\in K}f^k_r(\\delta^+_k(V_{r^+})) =\\sum_{k \\in K}f^k_r(\\delta^-_k(V_{r^-})) = 1 \\;\\;\\;\\; \\forall r\\in R$$\n",
        "$$\\sum_{k \\in K}\\sum_{(i,j) \\in \\delta_k^+(V_{r^+})} f^{kr}_{i,j} = \n",
        "\\sum_{k \\in K}\\sum_{(i,j) \\in \\delta_k^-(V_{r^-})} f^{kr}_{i,j} = 1$$\n",
        "\n",
        "\n"
      ],
      "metadata": {
        "id": "K0zh8IhtQUtS"
      }
    },
    {
      "cell_type": "code",
      "source": [
        "for r in R:\n",
        "  solver.Add(sum(sum(f[k][r][i][j] for k in K) for (i,j) in leaving_nodes([requests[r][0]])) == 1)\n",
        "  solver.Add(sum(sum(f[k][r][i][j] for k in K) for (i,j) in entering_nodes([requests[r][1]])) == 1)\n"
      ],
      "metadata": {
        "id": "QUddEwoeQcM4"
      },
      "execution_count": 41,
      "outputs": []
    },
    {
      "cell_type": "markdown",
      "source": [
        "4. This forbids requests to enter (leave) it's origin (destination)"
      ],
      "metadata": {
        "id": "1Fr6Gy_5z9FG"
      }
    },
    {
      "cell_type": "markdown",
      "source": [
        "$$\\sum_{k \\in K}f^k_r(\\delta^-_k(V_{r^+})) =\\sum_{k \\in K}f^k_r(\\delta^+_k(V_{r^-})) = 0 \\;\\;\\;\\; \\forall r\\in R$$\n",
        "$$\\sum_{k \\in K}\\sum_{(i,j) \\in \\delta_k^-(V_{r^+})} f^{kr}_{i,j} = \n",
        "\\sum_{k \\in K}\\sum_{a \\in \\delta_k^+(V_{r^-})} f^{kr}_{i,j}\n",
        " = 0$$"
      ],
      "metadata": {
        "id": "Exzo1AKjYfxs"
      }
    },
    {
      "cell_type": "code",
      "source": [
        "for r in R:\n",
        "  solver.Add(sum(sum(f[k][r][i][j] for k in K) for (i,j) in entering_nodes([requests[r][0]])) == 0)\n",
        "  solver.Add(sum(sum(f[k][r][i][j] for k in K) for (i,j) in leaving_nodes([requests[r][1]])) == 0)\n"
      ],
      "metadata": {
        "id": "jQzJYj5UFYeg"
      },
      "execution_count": 42,
      "outputs": []
    },
    {
      "cell_type": "markdown",
      "source": [
        "5. This guarantee flow at transition points\n",
        "$$f_r^k(\\delta_k^-(v)) + \\sum_{k' \\in K}z^{k'k}_{vr} -z^{kk'}_{vr} = f_r^k(\\delta^+_k(v))$$\n",
        "\\\n",
        "$$\\forall r \\in R, t \\in T, k \\in K $$"
      ],
      "metadata": {
        "id": "Z12M6bOHB8Ug"
      }
    },
    {
      "cell_type": "code",
      "source": [
        "for r in R:\n",
        "  for t in transfers:\n",
        "    for k in K:\n",
        "      solver.Add(sum(f[k][r][i][j] for (i,j) in entering_nodes([t])) + sum(z[k2][k][t][r] - z[k][k2][t][r] for k2 in K) == \n",
        "                 sum(f[k][r][i][j] for (i,j) in leaving_nodes([t])))"
      ],
      "metadata": {
        "id": "9FKfSS5GCHUD"
      },
      "execution_count": 43,
      "outputs": []
    },
    {
      "cell_type": "markdown",
      "source": [
        "7. This forbids transfers at locations other then transfer"
      ],
      "metadata": {
        "id": "Kea5gYY_2Y2S"
      }
    },
    {
      "cell_type": "markdown",
      "source": [
        "$$\\sum_{(i,j) \\in \\delta^+_k(v)}f^{kr}_{i,j} = \\sum_{(i,j) \\in \\delta^-_k(v)}f^{kr}_{i,j}  $$\n",
        "$$\\forall r \\in R, \\forall k \\in K, \\forall v \\in V - \\{r^-,r^+\\} - T $$"
      ],
      "metadata": {
        "id": "4tA_f3ey0vhw"
      }
    },
    {
      "cell_type": "code",
      "source": [
        "for r in R:\n",
        "  for k in K:\n",
        "    for v in V:\n",
        "      if v not in transfers and v != requests[r][0] and v != requests[r][1]:\n",
        "        solver.Add(sum(f[k][r][i][j] for (i,j) in leaving_nodes([v])) ==\n",
        "                   sum(f[k][r][i][j] for (i,j) in entering_nodes([v])))"
      ],
      "metadata": {
        "id": "QxNrWY6N1CO6"
      },
      "execution_count": 44,
      "outputs": []
    },
    {
      "cell_type": "markdown",
      "source": [
        "8. Time consistency"
      ],
      "metadata": {
        "id": "KXyR7aAP4Ace"
      }
    },
    {
      "cell_type": "markdown",
      "source": [
        "$$s_u^k + t_{u,v} - M(1-x^k_{u,v}) \\leq s^k_v\n",
        " \\;\\;\\; \\forall k \\in K,  \\forall (u,v) \\in A $$"
      ],
      "metadata": {
        "id": "p_ZcLh8M4FEA"
      }
    },
    {
      "cell_type": "code",
      "source": [
        "for k in K:\n",
        "  for (u,v) in A:\n",
        "    solver.Add(s[k][u] + time[u][v] - M * (1 - x[k][u][v]) <= s[k][v]+1)"
      ],
      "metadata": {
        "id": "oeVF5aLc4HnN"
      },
      "execution_count": 45,
      "outputs": []
    },
    {
      "cell_type": "markdown",
      "source": [
        "10. Time consistency at transport location\n",
        "$$s_t^k  - M(1-z^{kk'}_{tr}) \\leq s^{k'}_t\n",
        " \\;\\;\\; \\forall t \\in T, \\forall k,k' \\in K $$"
      ],
      "metadata": {
        "id": "xWGB3Zye6rty"
      }
    },
    {
      "cell_type": "code",
      "source": [
        "for t in T:\n",
        "  for k in K:\n",
        "    for k2 in K:\n",
        "      for r in R:\n",
        "        solver.Add(s[k][t] - M * (1 - z[k][k2][t][r]) <= s[k2][t])"
      ],
      "metadata": {
        "id": "U1-tiYipdRds"
      },
      "execution_count": 46,
      "outputs": []
    },
    {
      "cell_type": "markdown",
      "source": [
        "11. This allows transhipment at $t \\in T$ only when both vehicles arrive at $t$.\n",
        "\n",
        "$$z_{tr}^{kk'} \\leq y_t^k \\;\\;\\;\\; z_{tr}^{kk'} \\leq y_t^{k'} $$\n",
        "$$\\forall t \\in T,k,k' \\in K,r \\in R$$"
      ],
      "metadata": {
        "id": "qdyut0yZkLvN"
      }
    },
    {
      "cell_type": "code",
      "source": [
        "for t in T:\n",
        "  for k in K:\n",
        "    for k2 in K:\n",
        "      for r in R:\n",
        "        solver.Add(z[k][k2][t][r] <= y[k][t])\n",
        "        solver.Add(z[k][k2][t][r] <= y[k2][t])"
      ],
      "metadata": {
        "id": "P7bsmgv8eHSd"
      },
      "execution_count": 47,
      "outputs": []
    },
    {
      "cell_type": "markdown",
      "source": [
        "12. Binds $f$ and $x$ variable\n",
        "$$f^{kr}_{ij} \\leq x^k_{ij}$$"
      ],
      "metadata": {
        "id": "RXv_KT31m8ex"
      }
    },
    {
      "cell_type": "code",
      "source": [
        "for k in K:\n",
        "  for (i,j) in A:\n",
        "    for r in R:\n",
        "      solver.Add(f[k][r][i][j] <= x[k][i][j])"
      ],
      "metadata": {
        "id": "brRMO86Vy8MO"
      },
      "execution_count": 48,
      "outputs": []
    },
    {
      "cell_type": "markdown",
      "source": [
        "13. Capacity constraint\n",
        "$$\\sum_{r \\in R}f^{kr}_{i,j} r_k \\leq k_r $$"
      ],
      "metadata": {
        "id": "pFwK45NvQzMe"
      }
    },
    {
      "cell_type": "code",
      "source": [
        "for (i,j) in A:\n",
        "  for k in K:\n",
        "    solver.Add(sum(f[k][r][i][j] * request_size[r] for r in R) <= vehicles_capacity[k] )"
      ],
      "metadata": {
        "id": "QdQXkDhIRDc0"
      },
      "execution_count": 49,
      "outputs": []
    },
    {
      "cell_type": "markdown",
      "source": [
        "14. Time Windows\n",
        "$$ a_v \\leq s^k_v  \\leq b_v$$"
      ],
      "metadata": {
        "id": "vV7Rz4J4U0tm"
      }
    },
    {
      "cell_type": "code",
      "source": [
        "for k in K:\n",
        "  for v in non_transfer(transfers):    \n",
        "    solver.Add(time_windows[v][1] <= s[k][v] <= time_windows[v][1])"
      ],
      "metadata": {
        "id": "BA4-ESUjVmHr"
      },
      "execution_count": 50,
      "outputs": []
    },
    {
      "cell_type": "code",
      "source": [
        "status = solver.Solve()\n",
        "\n",
        "if status == pywraplp.Solver.OPTIMAL:\n",
        "  print(\"ok\")\n",
        "  print(solver.Objective().Value())\n",
        "elif status == pywraplp.Solver.NOT_SOLVED:\n",
        "  print(\"not solved\")\n",
        "elif status == pywraplp.Solver.INFEASIBLE:\n",
        "  print(\"infeasible\")\n",
        "\n",
        "print(\"requests\")\n",
        "print(requests)\n",
        "print(\"vehicles\")\n",
        "print(vehicles)\n",
        "print(\"transfers\")\n",
        "print(transfers)\n",
        "\n",
        "print(\"x variable\")\n",
        "for k in K:\n",
        "  print(\"vehicle: \"+ str(k) )\n",
        "  for (i,j) in A:\n",
        "    if x[k][i][j].solution_value() > 0:\n",
        "      print(x[k][i][j], c[i][j])\n",
        "\n",
        "print(\"y variable\")\n",
        "for k in K:\n",
        "  for v in V:\n",
        "    if y[k][v].solution_value() > 0:\n",
        "      print(y[k][v])\n",
        "\n",
        "print(\"f variable\")\n",
        "for k in K:\n",
        "  for r in R:\n",
        "    for (i,j) in A:\n",
        "      if f[k][r][i][j].solution_value() > 0:\n",
        "        print(f[k][r][i][j])\n",
        "\n",
        "print(\"\\n\")\n",
        "print(\"Time: \")\n",
        "print(time)\n",
        "for k in K:\n",
        "  print(\"vehicle: \"+ str(k))\n",
        "  for v in V:\n",
        "    print(s[k][v],end = \" = \")\n",
        "    print(\"{0:.90f}\".format(s[k][v].solution_value()))\n",
        "\n",
        "for k in K:\n",
        "  for k2 in K:\n",
        "    for v in V:\n",
        "      for r in R:\n",
        "        if z[k][k2][v][r].solution_value() > 0:\n",
        "          print(z[k][k2][v][r])"
      ],
      "metadata": {
        "id": "WnZ3Adk2zeaS",
        "colab": {
          "base_uri": "https://localhost:8080/"
        },
        "outputId": "0a6d1878-ffeb-4cc3-ddbc-f3154bbae94f"
      },
      "execution_count": 51,
      "outputs": [
        {
          "output_type": "stream",
          "name": "stdout",
          "text": [
            "ok\n",
            "1200.0\n",
            "requests\n",
            "[[0, 1], [0, 3], [4, 1], [4, 3]]\n",
            "vehicles\n",
            "[[0, 5], [4, 6]]\n",
            "transfers\n",
            "[2]\n",
            "x variable\n",
            "vehicle: 0\n",
            "x_0_0_2 150\n",
            "x_0_2_3 150\n",
            "x_0_3_5 300\n",
            "vehicle: 1\n",
            "x_1_1_6 300\n",
            "x_1_2_1 150\n",
            "x_1_4_2 150\n",
            "y variable\n",
            "y_0_0\n",
            "y_0_2\n",
            "y_0_3\n",
            "y_0_5\n",
            "y_1_1\n",
            "y_1_2\n",
            "y_1_4\n",
            "y_1_6\n",
            "f variable\n",
            "f_0_0_0_2\n",
            "f_0_1_0_2\n",
            "f_0_1_2_3\n",
            "f_0_3_2_3\n",
            "f_1_0_2_1\n",
            "f_1_2_2_1\n",
            "f_1_2_4_2\n",
            "f_1_3_4_2\n",
            "\n",
            "\n",
            "Time: \n",
            "[[0.  5.  2.5 5.  5.  0.  5. ]\n",
            " [5.  0.  2.5 5.  5.  5.  5. ]\n",
            " [2.5 2.5 0.  2.5 2.5 2.5 2.5]\n",
            " [5.  5.  2.5 0.  5.  5.  5. ]\n",
            " [5.  5.  2.5 5.  0.  5.  0. ]\n",
            " [0.  5.  2.5 5.  5.  0.  5. ]\n",
            " [5.  5.  2.5 5.  5.  5.  0. ]]\n",
            "vehicle: 0\n",
            "s_0_0 = 0.000000000000000000000000000000000000000000000000000000000000000000000000000000000000000000\n",
            "s_0_1 = -0.000000000000000699906678184235441323079314651596209053614782748253819733008640469051897526\n",
            "s_0_2 = 1.499999999999999777955395074968691915273666381835937500000000000000000000000000000000000000\n",
            "s_0_3 = 3.000000000000000888178419700125232338905334472656250000000000000000000000000000000000000000\n",
            "s_0_4 = 0.000000000000000000000000000000000000000000000000000000000000000000000000000000000000000000\n",
            "s_0_5 = 100.000000000000000000000000000000000000000000000000000000000000000000000000000000000000000000\n",
            "s_0_6 = 0.000000000000000000000000000000000000000000000000000000000000000000000000000000000000000000\n",
            "vehicle: 1\n",
            "s_1_0 = 0.000000000000000000000000000000000000000000000000000000000000000000000000000000000000000000\n",
            "s_1_1 = 3.000000000000000888178419700125232338905334472656250000000000000000000000000000000000000000\n",
            "s_1_2 = 1.499999999999999777955395074968691915273666381835937500000000000000000000000000000000000000\n",
            "s_1_3 = 100.000000000000000000000000000000000000000000000000000000000000000000000000000000000000000000\n",
            "s_1_4 = 0.000000000000000000000000000000000000000000000000000000000000000000000000000000000000000000\n",
            "s_1_5 = 0.000000000000000000000000000000000000000000000000000000000000000000000000000000000000000000\n",
            "s_1_6 = 100.000000000000000000000000000000000000000000000000000000000000000000000000000000000000000000\n",
            "z_0_1_2_0\n",
            "z_1_0_2_3\n"
          ]
        }
      ]
    },
    {
      "cell_type": "code",
      "source": [
        "def find_edge(edges, node):\n",
        "  for edge in edges:\n",
        "    if node == edge[0]:\n",
        "      return edge\n",
        "\n",
        "def get_vehicle_route(x, vehicles_num, start):\n",
        "  route = {}\n",
        "  edges = [(i, j) for (i, j) in A if x[vehicles_num][i][j].solution_value() > 0]\n",
        "\n",
        "  route['edges'] = edges\n",
        "\n",
        "  return route"
      ],
      "metadata": {
        "id": "GkItUpJORq0u"
      },
      "execution_count": 52,
      "outputs": []
    },
    {
      "cell_type": "code",
      "source": [
        "def get_request_route(f, route_num, start):\n",
        "  route = {}\n",
        "  # is this good though?? wont the order get messed up?\n",
        "  edges = [(i, j, k) for (i, j) in A for k in K if f[k][route_num][i][j].solution_value() > 0]\n",
        "\n",
        "  route['edges'] = edges\n",
        "\n",
        "  return route"
      ],
      "metadata": {
        "id": "WT5LlxLEE_LT"
      },
      "execution_count": 53,
      "outputs": []
    },
    {
      "cell_type": "markdown",
      "source": [
        "Printing Solutions"
      ],
      "metadata": {
        "id": "_xj4ZRi5EIXp"
      }
    },
    {
      "cell_type": "code",
      "source": [
        "vehicle_routes = [get_vehicle_route(x, k, vehicles[k][0]) for k in K]\n",
        "\n",
        "for k, route in enumerate(vehicle_routes):\n",
        "  print(\"vehicle: \" + str(k),route['edges'], end = \" \")\n",
        "  # print(route['path'])\n",
        "\n",
        "requests_routes = [get_request_route(f, r, requests[r][0]) for r in R]\n",
        "print()\n",
        "\n",
        "for r, route in enumerate(requests_routes):\n",
        "  print(\"route: \" + str(r),\" starting at: \",requests[r][0], end = \": \")\n",
        "  print(route['edges'])"
      ],
      "metadata": {
        "id": "ElCeyjryEJxF",
        "colab": {
          "base_uri": "https://localhost:8080/"
        },
        "outputId": "47d2439e-38b1-4136-fabb-96b6d8aef2aa"
      },
      "execution_count": 54,
      "outputs": [
        {
          "output_type": "stream",
          "name": "stdout",
          "text": [
            "vehicle: 0 [(0, 2), (2, 3), (3, 5)] vehicle: 1 [(1, 6), (2, 1), (4, 2)] \n",
            "route: 0  starting at:  0: [(0, 2, 0), (2, 1, 1)]\n",
            "route: 1  starting at:  0: [(0, 2, 0), (2, 3, 0)]\n",
            "route: 2  starting at:  4: [(2, 1, 1), (4, 2, 1)]\n",
            "route: 3  starting at:  4: [(2, 3, 0), (4, 2, 1)]\n"
          ]
        }
      ]
    },
    {
      "cell_type": "markdown",
      "source": [
        "Tutaj by się przydało wyświetlic rozwiazanie, np ,żeby na grafie wyświetlic w róznych kolorach ścieżki pojazdów poszczególnych a poźniej odzielnie kazdy request z scieżkami w kolorze odpowiadającym pojazdowi który go wiezie"
      ],
      "metadata": {
        "id": "GHrC0u2nGoiP"
      }
    }
  ]
}